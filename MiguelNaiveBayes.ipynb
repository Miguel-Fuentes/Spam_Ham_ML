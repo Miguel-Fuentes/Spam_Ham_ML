{
 "cells": [
  {
   "cell_type": "code",
   "execution_count": 24,
   "metadata": {},
   "outputs": [],
   "source": [
    "import pandas as pd\n",
    "from collections import defaultdict, Counter, namedtuple\n",
    "from math import log"
   ]
  },
  {
   "cell_type": "code",
   "execution_count": 2,
   "metadata": {},
   "outputs": [],
   "source": [
    "train = pd.read_pickle('data\\\\dataset 1\\\\train.pkl')\n",
    "test = pd.read_pickle('data\\\\dataset 1\\\\test.pkl')"
   ]
  },
  {
   "cell_type": "code",
   "execution_count": 19,
   "metadata": {},
   "outputs": [
    {
     "data": {
      "text/plain": [
       "2"
      ]
     },
     "execution_count": 19,
     "metadata": {},
     "output_type": "execute_result"
    }
   ],
   "source": [
    "a = defaultdict(int,{'a': 0, 'b': 5})\n",
    "len(a)"
   ]
  },
  {
   "cell_type": "code",
   "execution_count": 48,
   "metadata": {},
   "outputs": [],
   "source": [
    "class NaiveBayes:\n",
    "    def __init__(self):\n",
    "        self.count_total_tuple = namedtuple('count_total_tuple',['counts','total'])\n",
    "        self.counts = {}    \n",
    "    \n",
    "    def train(self, data, classes):\n",
    "        for _class in classes:\n",
    "            all_words = ''.join(list(train[train['class'] == _class]['text'])).split()\n",
    "            word_counts = dict(Counter(all_words))\n",
    "            self.counts[_class] = self.count_total_tuple(defaultdict(int,word_counts),len(all_words))\n",
    "            \n",
    "    def classify(self, doc):\n",
    "        max_log_prod = float('-inf')\n",
    "        classification = None\n",
    "        for _class, count_tuple in self.counts.items():\n",
    "            words = doc.split()\n",
    "            word_counts = [count_tuple.counts[word] + 1 for word in words]\n",
    "            oov_words = word_counts.count(1)\n",
    "            log_freqs = [log(count/(len(count_tuple.counts) + oov_words + count_tuple.total)) for count in word_counts]\n",
    "            total = sum(log_freqs)\n",
    "            if total > max_log_prod:\n",
    "                max_log_prod = total\n",
    "                classification = _class\n",
    "        return classification\n",
    "    \n",
    "    def predict(self, doc_series):\n",
    "        return doc_series.apply(lambda x: test.classify(x))"
   ]
  },
  {
   "cell_type": "code",
   "execution_count": 49,
   "metadata": {},
   "outputs": [],
   "source": [
    "test = NaiveBayes()"
   ]
  },
  {
   "cell_type": "code",
   "execution_count": 50,
   "metadata": {},
   "outputs": [],
   "source": [
    "test.train(train,['spam','ham'])"
   ]
  },
  {
   "cell_type": "code",
   "execution_count": 52,
   "metadata": {},
   "outputs": [],
   "source": [
    "def accuracy(model, data):\n",
    "    correct = (data['class'] == model.predict(data['text'])).sum()\n",
    "    return correct / len(data)"
   ]
  },
  {
   "cell_type": "code",
   "execution_count": 54,
   "metadata": {},
   "outputs": [
    {
     "data": {
      "text/plain": [
       "0.9719222462203023"
      ]
     },
     "execution_count": 54,
     "metadata": {},
     "output_type": "execute_result"
    }
   ],
   "source": [
    "accuracy(test,train)"
   ]
  },
  {
   "cell_type": "code",
   "execution_count": null,
   "metadata": {},
   "outputs": [],
   "source": []
  }
 ],
 "metadata": {
  "kernelspec": {
   "display_name": "Python 3",
   "language": "python",
   "name": "python3"
  },
  "language_info": {
   "codemirror_mode": {
    "name": "ipython",
    "version": 3
   },
   "file_extension": ".py",
   "mimetype": "text/x-python",
   "name": "python",
   "nbconvert_exporter": "python",
   "pygments_lexer": "ipython3",
   "version": "3.6.8"
  }
 },
 "nbformat": 4,
 "nbformat_minor": 2
}
